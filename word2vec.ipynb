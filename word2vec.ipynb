{
 "cells": [
  {
   "cell_type": "markdown",
   "metadata": {},
   "source": [
    "# Word2vec\n",
    "\n",
    "\n"
   ]
  },
  {
   "cell_type": "markdown",
   "metadata": {},
   "source": [
    "### 定义一个Skip Gram的Model class"
   ]
  },
  {
   "cell_type": "code",
   "execution_count": 19,
   "metadata": {
    "collapsed": true
   },
   "outputs": [],
   "source": [
    "import tensorflow as tf\n",
    "import os\n",
    "\n",
    "def make_dir(path):\n",
    "    try:\n",
    "        os.mkdir(path)\n",
    "    except OSError:\n",
    "        pass"
   ]
  },
  {
   "cell_type": "code",
   "execution_count": 20,
   "metadata": {
    "collapsed": true
   },
   "outputs": [],
   "source": [
    "import zipfile\n",
    "from collections import Counter\n",
    "import sys\n",
    "import zipfile\n",
    "\n",
    "import numpy as np\n",
    "from six.moves import urllib\n",
    "import random\n",
    "\n",
    "DOWNLOAD_URL = \"http://mattmahoney.net/dc/\"\n",
    "EXPECTED_BYTES = 31344016\n",
    "DATA_FOLDER = \"./data/\"\n",
    "FILE_NAME = \"text8.zip\"\n"
   ]
  },
  {
   "cell_type": "markdown",
   "metadata": {},
   "source": [
    "### 下载数据"
   ]
  },
  {
   "cell_type": "code",
   "execution_count": 37,
   "metadata": {},
   "outputs": [
    {
     "name": "stdout",
     "output_type": "stream",
     "text": [
      "Dataset ready\n"
     ]
    },
    {
     "data": {
      "text/plain": [
       "'./data/text8.zip'"
      ]
     },
     "execution_count": 37,
     "metadata": {},
     "output_type": "execute_result"
    }
   ],
   "source": [
    "def download(file_name, expected_bytes):\n",
    "    if not os.path.exists(DATA_FOLDER):\n",
    "        make_dir(DATA_FOLDER)\n",
    "    file_path = DATA_FOLDER + file_name\n",
    "    if os.path.exists(file_path):\n",
    "        print(\"Dataset ready\")\n",
    "        return file_path\n",
    "    file_name, _ = urllib.request.urlretrieve(DOWNLOAD_URL + \n",
    "                                              file_name, file_path)\n",
    "    file_stat = os.stat(file_path)\n",
    "    if file_stat.st_size == expected_bytes:\n",
    "        print(\"Successfully downloaded the file\", file_name)\n",
    "    else:\n",
    "        raise Exception(\"File \" + file_name + \n",
    "                        ' might be corrupted. You should try \\\n",
    "                        downloading it with a browser. ')\n",
    "    return file_path\n",
    "file_path = download(FILE_NAME, EXPECTED_BYTES)\n",
    "file_path"
   ]
  },
  {
   "cell_type": "markdown",
   "metadata": {},
   "source": [
    "### 读取数据"
   ]
  },
  {
   "cell_type": "code",
   "execution_count": 38,
   "metadata": {},
   "outputs": [
    {
     "name": "stdout",
     "output_type": "stream",
     "text": [
      "17005207\n",
      "['anarchism', 'originated', 'as', 'a', 'term']\n"
     ]
    }
   ],
   "source": [
    "def read_data(file_path):\n",
    "    with zipfile.ZipFile(file_path) as f:\n",
    "        words = tf.compat.as_str(f.read(f.namelist()[0])).split()\n",
    "    return words\n",
    "\n",
    "words = read_data(file_path)\n",
    "print(len(words))\n",
    "print(words[:5])"
   ]
  },
  {
   "cell_type": "markdown",
   "metadata": {},
   "source": [
    "### 构建dataset\n",
    "把word都转换成index"
   ]
  },
  {
   "cell_type": "code",
   "execution_count": 23,
   "metadata": {},
   "outputs": [
    {
     "name": "stdout",
     "output_type": "stream",
     "text": [
      "Most common words: {} [['UNK', 418391], ('the', 1061396), ('of', 593677), ('and', 416629), ('one', 411764)]\n",
      "Sample data: [5234, 3081, 12, 6, 195, 2, 3134, 46, 59, 156], ['anarchism', 'originated', 'as', 'a', 'term', 'of', 'abuse', 'first', 'used', 'against']\n"
     ]
    }
   ],
   "source": [
    "def build_dataset(words, vocab_size):\n",
    "    # 构建一个 word -> index 的 dictionary，\n",
    "    # 以及一个 index -> word 的 reverse_dictionary\n",
    "    dictionary = {}\n",
    "    count  = [[\"UNK\", -1]]\n",
    "    count.extend(Counter(words).most_common(vocab_size - 1))\n",
    "    index = 0\n",
    "    make_dir(\"processed\")\n",
    "    with open(\"processed/vocab_1000.tsv\", \"w\") as f:\n",
    "        for word, _ in count:\n",
    "            dictionary[word] = index\n",
    "            if index < 1000:\n",
    "                f.write(word + \"\\n\")\n",
    "            index += 1\n",
    "    word_index = [dictionary[word] if word in dictionary else 0 for word in words] # transform all words into index\n",
    "    count[0][1] = word_index.count(0)\n",
    "    reverse_dictionary = dict(zip(dictionary.values(), dictionary.keys()))\n",
    "    return word_index, count, dictionary, reverse_dictionary\n",
    "\n",
    "VOCAB_SIZE = 50000\n",
    "word_index, count, dictionary, reverse_dictionary = build_dataset(words, VOCAB_SIZE)\n",
    "del words # 可以节省内存\n",
    "print(\"Most common words: {}\", count[:5])\n",
    "print(\"Sample data: {}, {}\".format(word_index[:10], [reverse_dictionary[i] for i in word_index[:10]]))"
   ]
  },
  {
   "cell_type": "markdown",
   "metadata": {},
   "source": [
    "### 生成训练的batch"
   ]
  },
  {
   "cell_type": "code",
   "execution_count": 43,
   "metadata": {},
   "outputs": [
    {
     "name": "stdout",
     "output_type": "stream",
     "text": [
      "3081 originated -> 5234 anarchism\n",
      "3081 originated -> 12 as\n",
      "12 as -> 6 a\n",
      "12 as -> 3081 originated\n",
      "6 a -> 195 term\n",
      "6 a -> 12 as\n",
      "195 term -> 6 a\n",
      "195 term -> 2 of\n"
     ]
    }
   ],
   "source": [
    "import collections\n",
    "data_index = 0\n",
    "def generate_batch(batch_size, num_skips, skip_window):\n",
    "    global data_index\n",
    "    assert batch_size % num_skips == 0\n",
    "    assert num_skips <= 2 * skip_window # 我们希望拿到的skip数量比window单词的数量少，这样不会产生重复的sample\n",
    "    batch = np.ndarray(shape=(batch_size), dtype=np.int32)\n",
    "    labels = np.ndarray(shape=(batch_size, 1), dtype=np.int32)\n",
    "    span = 2*skip_window + 1\n",
    "    buffer = collections.deque(maxlen=span)\n",
    "    if data_index + span > len(word_index):\n",
    "        data_index = 0\n",
    "    buffer.extend(word_index[data_index:data_index+span])\n",
    "    data_index += span\n",
    "    for i in range(batch_size // num_skips):\n",
    "        target = skip_window\n",
    "        context_words = [w for w in range(span) if w != skip_window]\n",
    "        random.shuffle(context_words)\n",
    "        words_to_use = collections.deque(context_words)\n",
    "        for j in range(num_skips):\n",
    "            context_word = words_to_use.pop()\n",
    "            batch[i*num_skips + j] = buffer[skip_window]\n",
    "            labels[i * num_skips + j, 0] = buffer[context_word]\n",
    "        if data_index == len(word_index): # 如果data_index已经到这个文档的末尾了，我们就从头开始\n",
    "            buffer[:] = word_index[:span]\n",
    "            data_index = span\n",
    "        else: # 把整个window往后面移一个位置\n",
    "            buffer.append(word_index[data_index])\n",
    "            data_index += 1\n",
    "    data_index = (data_index + len(word_index) - span) % len(word_index)\n",
    "    return batch, labels\n",
    "\n",
    "batch, labels = generate_batch(batch_size=8, num_skips=2, skip_window=1)\n",
    "for i in range(8):\n",
    "    print(batch[i], reverse_dictionary[batch[i]],\n",
    "        '->', labels[i, 0], reverse_dictionary[labels[i, 0]])"
   ]
  },
  {
   "cell_type": "markdown",
   "metadata": {},
   "source": [
    "### 定义model"
   ]
  },
  {
   "cell_type": "code",
   "execution_count": 35,
   "metadata": {
    "collapsed": true
   },
   "outputs": [],
   "source": [
    "EMBED_SIZE = 128\n",
    "NUM_SAMPLED = 64\n",
    "LEARNING_RATE = 1.0\n",
    "BATCH_SIZE = 128\n",
    "\n",
    "valid_size = 16\n",
    "valid_window = 100\n",
    "valid_examples = np.random.choice(valid_window, valid_size, replace=False)\n",
    "num_sampled = 64 # negative sampling\n",
    "\n",
    "# valid_size = 16\n",
    "# valid_window = 100\n",
    "# valid_examples = np.random.choice(valid_window, valid_size, replace=False)\n",
    "\n",
    "graph = tf.Graph()\n",
    "\n",
    "with graph.as_default():\n",
    "    target_words = tf.placeholder(tf.int32, shape=[BATCH_SIZE])\n",
    "    context_words = tf.placeholder(tf.int32, shape=[BATCH_SIZE, 1])\n",
    "    valid_dataset = tf.constant(valid_examples, dtype=tf.int32)\n",
    "            \n",
    "    with tf.device(\"/cpu:0\"):\n",
    "        global_step = tf.Variable(0, dtype=tf.int32, trainable = False)\n",
    "        embeddings = tf.Variable(tf.random_uniform([VOCAB_SIZE, EMBED_SIZE], -1.0, 1.0)) # input embedding\n",
    "        embed = tf.nn.embedding_lookup(embeddings, target_words)\n",
    "        nce_weight = tf.Variable(tf.truncated_normal([VOCAB_SIZE, EMBED_SIZE],\n",
    "                                                            stddev=1.0/(EMBED_SIZE ** 0.5))) # output embedding\n",
    "        nce_bias = tf.Variable(tf.zeros([VOCAB_SIZE]))\n",
    "        loss = tf.reduce_mean(tf.nn.nce_loss(weights=nce_weight, biases=nce_bias, \n",
    "                                             labels=context_words,\n",
    "                                             inputs=embed, num_sampled=NUM_SAMPLED,\n",
    "                                             num_classes=VOCAB_SIZE)) # negative sampling\n",
    "                \n",
    "        optimizer = tf.train.GradientDescentOptimizer(LEARNING_RATE).minimize(loss) # gradient descent for optimization\n",
    "        \n",
    "        \n",
    "        # 计算cosine similarity \n",
    "        norm = tf.sqrt(tf.reduce_sum(tf.square(embeddings), 1, keep_dims=True))\n",
    "        normalized_embeddings = embeddings/norm\n",
    "        valid_embeddings = tf.nn.embedding_lookup(normalized_embeddings, valid_dataset)\n",
    "        similarity = tf.matmul(valid_embeddings, normalized_embeddings, transpose_b=True)\n",
    "        \n",
    "        \n",
    "        init = tf.global_variables_initializer() \n",
    "        "
   ]
  },
  {
   "cell_type": "markdown",
   "metadata": {},
   "source": [
    "### 训练model"
   ]
  },
  {
   "cell_type": "code",
   "execution_count": 36,
   "metadata": {
    "scrolled": true
   },
   "outputs": [
    {
     "name": "stdout",
     "output_type": "stream",
     "text": [
      "Average loss at step 1999: 113.5\n",
      "Average loss at step 3999:  53.5\n",
      "Average loss at step 5999:  32.7\n",
      "Average loss at step 7999:  23.5\n",
      "Average loss at step 9999:  17.9\n",
      "Nearest to most: arranged, infected, stimulate, conceived, scholars, power, unpublished, production,\n",
      "Nearest to history: bckgr, end, phi, death, remixes, molinari, shah, mart,\n",
      "Nearest to also: there, var, aha, outposts, vs, UNK, mystic, recording,\n",
      "Nearest to on: in, and, or, however, of, map, talk, favorite,\n",
      "Nearest to an: the, terra, commissioning, used, this, vs, transmutation, rail,\n",
      "Nearest to use: bishops, aberdeenshire, boiling, resort, spoken, boxing, joseph, philosophy,\n",
      "Nearest to was: is, hurdle, and, working, telephone, in, councils, var,\n",
      "Nearest to many: engineering, omnibus, problematic, discovering, agave, expeditions, holding, dates,\n",
      "Nearest to the: a, and, his, an, UNK, of, one, antimatter,\n",
      "Nearest to these: farming, basins, great, caliber, surveying, involvement, deed, congo,\n",
      "Nearest to s: and, com, imagery, his, the, coulomb, zero, of,\n",
      "Nearest to or: and, on, of, advancing, definitions, pneumonia, kew, regarding,\n",
      "Nearest to see: socialism, girls, conquer, councils, translator, rsha, gall, norms,\n",
      "Nearest to in: and, of, for, by, on, bones, to, at,\n",
      "Nearest to has: subatomic, is, smaller, have, attend, encircled, was, hillside,\n",
      "Nearest to a: the, vs, UNK, this, and, cc, position, astronomers,\n",
      "Average loss at step 11999:  14.1\n",
      "Average loss at step 13999:  11.9\n",
      "Average loss at step 15999:   9.9\n",
      "Average loss at step 17999:   8.6\n",
      "Average loss at step 19999:   7.9\n",
      "Nearest to most: antwerp, conceived, power, unpublished, stimulate, scholars, production, infected,\n",
      "Nearest to history: end, apatosaurus, resisting, bckgr, phi, death, remixes, ell,\n",
      "Nearest to also: there, not, hello, mystic, var, aha, vs, genus,\n",
      "Nearest to on: in, and, for, by, however, operatorname, of, or,\n",
      "Nearest to an: the, terra, commissioning, this, circ, used, improper, dasyprocta,\n",
      "Nearest to use: ifbb, dasyprocta, bishops, aberdeenshire, boiling, enoch, boxing, operatorname,\n",
      "Nearest to was: is, are, by, has, were, had, in, and,\n",
      "Nearest to many: engineering, dasyprocta, the, expeditions, dates, omnibus, holding, basso,\n",
      "Nearest to the: a, this, his, one, dasyprocta, operatorname, circ, their,\n",
      "Nearest to these: wrigley, farming, the, caliber, mater, surveying, american, roberta,\n",
      "Nearest to s: his, zero, the, and, imagery, com, dasyprocta, circ,\n",
      "Nearest to or: and, six, the, adder, zero, nine, of, altenberg,\n",
      "Nearest to see: socialism, girls, and, conquer, translator, gall, wwe, bottle,\n",
      "Nearest to in: and, of, on, at, for, under, nine, from,\n",
      "Nearest to has: is, was, had, have, subatomic, bali, attend, smaller,\n",
      "Nearest to a: the, this, vs, agouti, dasyprocta, apatosaurus, one, operatorname,\n",
      "Average loss at step 21999:   7.0\n",
      "Average loss at step 23999:   6.8\n",
      "Average loss at step 25999:   6.6\n",
      "Average loss at step 27999:   6.3\n",
      "Average loss at step 29999:   5.9\n",
      "Nearest to most: antwerp, conceived, production, morita, power, unpublished, infected, scholars,\n",
      "Nearest to history: end, apatosaurus, resisting, phi, bckgr, death, acetylene, ell,\n",
      "Nearest to also: there, not, var, mystic, hello, it, aha, genus,\n",
      "Nearest to on: in, at, for, by, from, into, and, during,\n",
      "Nearest to an: the, terra, commissioning, arin, almost, this, circ, improper,\n",
      "Nearest to use: ifbb, dasyprocta, bishops, ramps, boiling, aberdeenshire, enoch, solomon,\n",
      "Nearest to was: is, were, by, has, had, are, operatorname, sponsors,\n",
      "Nearest to many: some, dates, the, dasyprocta, basso, engineering, omnibus, holding,\n",
      "Nearest to the: his, their, its, this, a, circ, operatorname, agouti,\n",
      "Nearest to these: wrigley, caliber, dnia, some, the, farming, abbe, surveying,\n",
      "Nearest to s: and, the, his, zero, com, four, circ, six,\n",
      "Nearest to or: and, six, adder, altenberg, agouti, dasyprocta, nine, gollancz,\n",
      "Nearest to see: and, socialism, gall, girls, translator, anatomically, conquer, bottle,\n",
      "Nearest to in: at, on, and, for, from, by, of, under,\n",
      "Nearest to has: is, had, was, have, subatomic, bali, attend, enid,\n",
      "Nearest to a: the, agouti, vs, this, apatosaurus, dasyprocta, circ, operatorname,\n"
     ]
    }
   ],
   "source": [
    "SKIP_STEP = 2000\n",
    "WEIGHTS_FOLDER = 'processed'\n",
    "NUM_TRAIN_STEPS = 30000\n",
    "SKIP_WINDOW = 1      \n",
    "NUM_SKIPS = 2  \n",
    "\n",
    "# 构造一个 Saver object，会默认保存所有variables\n",
    "\n",
    "initial_step = 0\n",
    "\n",
    "with tf.Session(graph=graph) as sess:\n",
    "    sess.run(tf.global_variables_initializer())\n",
    "\n",
    "    total_loss = 0.0\n",
    "    initial_step = global_step.eval()\n",
    "    \n",
    "    for index in range(initial_step, initial_step + NUM_TRAIN_STEPS):\n",
    "        target_words_batch, context_words_batch = generate_batch(BATCH_SIZE, NUM_SKIPS, SKIP_WINDOW)#next(batch_gen)\n",
    "\n",
    "        loss_batch, _ = sess.run([loss, optimizer],\n",
    "                                 feed_dict = {target_words: target_words_batch, \n",
    "                                              context_words: context_words_batch})\n",
    "        total_loss += loss_batch\n",
    "        \n",
    "        if (index + 1) % SKIP_STEP == 0:\n",
    "            print(\"Average loss at step {}: {:5.1f}\".format(index, total_loss / SKIP_STEP))\n",
    "            total_loss = 0.0\n",
    "    \n",
    "        if (index + 1) % 10000 == 0:\n",
    "            sim = similarity.eval()\n",
    "            for i in range(valid_size):\n",
    "                valid_word = reverse_dictionary[valid_examples[i]]\n",
    "                top_k = 8\n",
    "                nearest = (-sim[i, :]).argsort()[1:top_k + 1]\n",
    "                log_str = \"Nearest to {}:\".format(valid_word)\n",
    "                for k in range(top_k):\n",
    "                    close_word = reverse_dictionary[nearest[k]]\n",
    "                    log_str = \"{} {},\".format(log_str, close_word)\n",
    "                print(log_str)\n",
    "        final_embeddings = normalized_embeddings.eval()\n",
    "\n"
   ]
  },
  {
   "cell_type": "markdown",
   "metadata": {
    "collapsed": true
   },
   "source": [
    "### Homework: \n",
    "- Write a function to find nearest neighbors (by cosine similarity) of a given word, and try some words, write down 10 interesting examples you found. \n",
    "- Try some algebraic computation such as \"King\" - \"Queen\" = \"Man\" - \"?\", \"China\" - \"Beijing\" = \"France\" - \"?\", using the nearest neighbor search. Write down 5 interesting examples you found. \n",
    "- (Optional) Implement CBOW model"
   ]
  }
 ],
 "metadata": {
  "kernelspec": {
   "display_name": "Python 3",
   "language": "python",
   "name": "python3"
  },
  "language_info": {
   "codemirror_mode": {
    "name": "ipython",
    "version": 3
   },
   "file_extension": ".py",
   "mimetype": "text/x-python",
   "name": "python",
   "nbconvert_exporter": "python",
   "pygments_lexer": "ipython3",
   "version": "3.6.3"
  }
 },
 "nbformat": 4,
 "nbformat_minor": 2
}
